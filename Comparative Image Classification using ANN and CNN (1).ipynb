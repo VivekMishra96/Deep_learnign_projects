{
 "cells": [
  {
   "cell_type": "markdown",
   "id": "3fa0260f",
   "metadata": {},
   "source": [
    "## Is ANN or CNN is better for image classification ?"
   ]
  },
  {
   "cell_type": "markdown",
   "id": "800329ea",
   "metadata": {},
   "source": [
    "### Importing libraries "
   ]
  },
  {
   "cell_type": "code",
   "execution_count": 71,
   "id": "80ba9137",
   "metadata": {},
   "outputs": [],
   "source": [
    "import pandas as pd\n",
    "import numpy as np\n",
    "import tensorflow as tf\n",
    "from tensorflow.keras import datasets, layers, models\n",
    "import matplotlib.pyplot as plt"
   ]
  },
  {
   "cell_type": "code",
   "execution_count": 72,
   "id": "fcd5597f",
   "metadata": {},
   "outputs": [],
   "source": [
    "(x_train, y_train), (x_test, y_test) = tf.keras.datasets.cifar10.load_data()"
   ]
  },
  {
   "cell_type": "code",
   "execution_count": 73,
   "id": "08e983b0",
   "metadata": {},
   "outputs": [
    {
     "data": {
      "text/plain": [
       "(50000, 32, 32, 3)"
      ]
     },
     "execution_count": 73,
     "metadata": {},
     "output_type": "execute_result"
    }
   ],
   "source": [
    "x_train.shape"
   ]
  },
  {
   "cell_type": "code",
   "execution_count": 74,
   "id": "798d5f23",
   "metadata": {},
   "outputs": [
    {
     "data": {
      "text/plain": [
       "(50000, 1)"
      ]
     },
     "execution_count": 74,
     "metadata": {},
     "output_type": "execute_result"
    }
   ],
   "source": [
    "y_train.shape"
   ]
  },
  {
   "cell_type": "code",
   "execution_count": 75,
   "id": "c6bde6c4",
   "metadata": {},
   "outputs": [
    {
     "data": {
      "text/plain": [
       "<matplotlib.image.AxesImage at 0x19269796fd0>"
      ]
     },
     "execution_count": 75,
     "metadata": {},
     "output_type": "execute_result"
    },
    {
     "data": {
      "image/png": "[encoded data removed]",
      "text/plain": [
       "<Figure size 432x288 with 1 Axes>"
      ]
     },
     "metadata": {
      "needs_background": "light"
     },
     "output_type": "display_data"
    }
   ],
   "source": [
    "plt.imshow(x_train[5])"
   ]
  },
  {
   "cell_type": "code",
   "execution_count": 76,
   "id": "c1725d2b",
   "metadata": {},
   "outputs": [
    {
     "data": {
      "text/plain": [
       "1"
      ]
     },
     "execution_count": 76,
     "metadata": {},
     "output_type": "execute_result"
    }
   ],
   "source": [
    "y_train[5][0]"
   ]
  },
  {
   "cell_type": "code",
   "execution_count": 77,
   "id": "280bb0be",
   "metadata": {},
   "outputs": [],
   "source": [
    "classes = [\"airplane\", \"automobile\", \"dog\", \"cat\", \"deer\", \"dog\", \"frog\", \"horse\", \"ship\", \"truck\"]"
   ]
  },
  {
   "cell_type": "code",
   "execution_count": 78,
   "id": "0e62517f",
   "metadata": {},
   "outputs": [
    {
     "data": {
      "text/plain": [
       "'automobile'"
      ]
     },
     "execution_count": 78,
     "metadata": {},
     "output_type": "execute_result"
    }
   ],
   "source": [
    "classes[y_train[5][0]]"
   ]
  },
  {
   "cell_type": "code",
   "execution_count": 88,
   "id": "12300304",
   "metadata": {},
   "outputs": [],
   "source": [
    "# scaling data\n",
    "\n",
    "x_train_scaled = x_train/255\n",
    "x_test_scaled = x_test/255"
   ]
  },
  {
   "cell_type": "code",
   "execution_count": 89,
   "id": "eb5b485f",
   "metadata": {},
   "outputs": [],
   "source": [
    "# hot encoding\n",
    "\n",
    "y_train_categorical = keras.utils.to_categorical(y_train, num_classes = 10)\n",
    "y_test_categorical = keras.utils.to_categorical(y_test, num_classes = 10)"
   ]
  },
  {
   "cell_type": "code",
   "execution_count": 90,
   "id": "20275003",
   "metadata": {},
   "outputs": [
    {
     "data": {
      "text/plain": [
       "array([[0., 0., 0., ..., 0., 0., 0.],\n",
       "       [0., 0., 0., ..., 0., 0., 1.],\n",
       "       [0., 0., 0., ..., 0., 0., 1.],\n",
       "       ...,\n",
       "       [0., 0., 0., ..., 0., 0., 1.],\n",
       "       [0., 1., 0., ..., 0., 0., 0.],\n",
       "       [0., 1., 0., ..., 0., 0., 0.]], dtype=float32)"
      ]
     },
     "execution_count": 90,
     "metadata": {},
     "output_type": "execute_result"
    }
   ],
   "source": [
    "y_train_categorical"
   ]
  },
  {
   "cell_type": "code",
   "execution_count": 91,
   "id": "aa2b771b",
   "metadata": {},
   "outputs": [
    {
     "data": {
      "text/plain": [
       "array([[0., 0., 0., ..., 0., 0., 0.],\n",
       "       [0., 0., 0., ..., 0., 1., 0.],\n",
       "       [0., 0., 0., ..., 0., 1., 0.],\n",
       "       ...,\n",
       "       [0., 0., 0., ..., 0., 0., 0.],\n",
       "       [0., 1., 0., ..., 0., 0., 0.],\n",
       "       [0., 0., 0., ..., 1., 0., 0.]], dtype=float32)"
      ]
     },
     "execution_count": 91,
     "metadata": {},
     "output_type": "execute_result"
    }
   ],
   "source": [
    "y_test_categorical"
   ]
  },
  {
   "cell_type": "markdown",
   "id": "5704a6b1",
   "metadata": {},
   "source": [
    "### Building ANN with 5 epochs"
   ]
  },
  {
   "cell_type": "code",
   "execution_count": 114,
   "id": "f3eb54bf",
   "metadata": {},
   "outputs": [
    {
     "name": "stdout",
     "output_type": "stream",
     "text": [
      "Epoch 1/5\n",
      "1563/1563 [==============================] - 56s 36ms/step - loss: 1.9630 - accuracy: 0.3298\n",
      "Epoch 2/5\n",
      "1563/1563 [==============================] - 58s 37ms/step - loss: 1.6824 - accuracy: 0.4002\n",
      "Epoch 3/5\n",
      "1563/1563 [==============================] - 58s 37ms/step - loss: 1.6173 - accuracy: 0.4257\n",
      "Epoch 4/5\n",
      "1563/1563 [==============================] - 60s 39ms/step - loss: 1.5623 - accuracy: 0.4447\n",
      "Epoch 5/5\n",
      "1563/1563 [==============================] - 61s 39ms/step - loss: 1.5299 - accuracy: 0.4573\n"
     ]
    },
    {
     "data": {
      "text/plain": [
       "<keras.callbacks.History at 0x19262babaf0>"
      ]
     },
     "execution_count": 114,
     "metadata": {},
     "output_type": "execute_result"
    }
   ],
   "source": [
    "# building and training model\n",
    "\n",
    "ann = models.Sequential([\n",
    "    layers.Flatten(input_shape = (32,32,3)),\n",
    "    layers.Dense(3000, activation = 'relu'),\n",
    "    layers.Dense(10, activation = 'sigmoid')\n",
    "])\n",
    "ann.compile (optimizer = 'adam', loss = 'categorical_crossentropy', metrics= ['accuracy'] )\n",
    "ann.fit(x_train_scaled, y_train_categorical, epochs = 5) #my processor is bit slow so i used less epochs"
   ]
  },
  {
   "cell_type": "code",
   "execution_count": 116,
   "id": "3d23ed00",
   "metadata": {},
   "outputs": [
    {
     "name": "stdout",
     "output_type": "stream",
     "text": [
      "313/313 [==============================] - 3s 11ms/step\n"
     ]
    },
    {
     "data": {
      "text/plain": [
       "array([[0.42774716, 0.58526444, 0.61332285, ..., 0.06072808, 0.60851353,\n",
       "        0.12308096],\n",
       "       [0.9161433 , 0.990886  , 0.19925159, ..., 0.06514478, 0.9622079 ,\n",
       "        0.99066794],\n",
       "       [0.98257107, 0.98074996, 0.2249138 , ..., 0.16711238, 0.96038866,\n",
       "        0.95725435],\n",
       "       ...,\n",
       "       [0.09470108, 0.17195351, 0.82872367, ..., 0.62978727, 0.37426665,\n",
       "        0.24432419],\n",
       "       [0.4881598 , 0.6525648 , 0.68763626, ..., 0.30805075, 0.13345705,\n",
       "        0.40680802],\n",
       "       [0.5950061 , 0.49063402, 0.47703853, ..., 0.8739465 , 0.19320355,\n",
       "        0.48887828]], dtype=float32)"
      ]
     },
     "execution_count": 116,
     "metadata": {},
     "output_type": "execute_result"
    }
   ],
   "source": [
    "ann_y_predict = model.predict(x_test_scaled)\n",
    "ann_y_predict"
   ]
  },
  {
   "cell_type": "code",
   "execution_count": 117,
   "id": "4579ee5e",
   "metadata": {},
   "outputs": [
    {
     "name": "stdout",
     "output_type": "stream",
     "text": [
      "313/313 [==============================] - 4s 12ms/step\n"
     ]
    },
    {
     "data": {
      "text/plain": [
       "'ship'"
      ]
     },
     "execution_count": 117,
     "metadata": {},
     "output_type": "execute_result"
    }
   ],
   "source": [
    "# prediciton\n",
    "classes[np.argmax(model.predict(x_test_scaled)[120])]"
   ]
  },
  {
   "cell_type": "code",
   "execution_count": 118,
   "id": "a60ec266",
   "metadata": {},
   "outputs": [
    {
     "data": {
      "text/plain": [
       "<matplotlib.image.AxesImage at 0x19262f15070>"
      ]
     },
     "execution_count": 118,
     "metadata": {},
     "output_type": "execute_result"
    },
    {
     "data": {
      "image/png": "[encoded data removed]",
      "text/plain": [
       "<Figure size 432x288 with 1 Axes>"
      ]
     },
     "metadata": {
      "needs_background": "light"
     },
     "output_type": "display_data"
    }
   ],
   "source": [
    "plt.imshow(x_test_scaled[120])"
   ]
  },
  {
   "cell_type": "code",
   "execution_count": 119,
   "id": "602cb2d4",
   "metadata": {},
   "outputs": [
    {
     "data": {
      "text/plain": [
       "'ship'"
      ]
     },
     "execution_count": 119,
     "metadata": {},
     "output_type": "execute_result"
    }
   ],
   "source": [
    "# cross-checking\n",
    "classes[y_test[120][0]]"
   ]
  },
  {
   "cell_type": "markdown",
   "id": "4bfda496",
   "metadata": {},
   "source": [
    "### Classification report"
   ]
  },
  {
   "cell_type": "code",
   "execution_count": 120,
   "id": "6f75dd88",
   "metadata": {},
   "outputs": [
    {
     "name": "stdout",
     "output_type": "stream",
     "text": [
      "313/313 [==============================] - 3s 8ms/step\n",
      "Classification Report: \n",
      "               precision    recall  f1-score   support\n",
      "\n",
      "           0       0.16      0.94      0.27      1000\n",
      "           1       0.22      0.30      0.25      1000\n",
      "           2       0.17      0.30      0.22      1000\n",
      "           3       0.23      0.19      0.21      1000\n",
      "           4       0.41      0.01      0.03      1000\n",
      "           5       0.16      0.01      0.01      1000\n",
      "           6       0.28      0.01      0.01      1000\n",
      "           7       0.57      0.02      0.05      1000\n",
      "           8       0.22      0.00      0.01      1000\n",
      "           9       0.25      0.00      0.00      1000\n",
      "\n",
      "    accuracy                           0.18     10000\n",
      "   macro avg       0.27      0.18      0.11     10000\n",
      "weighted avg       0.27      0.18      0.11     10000\n",
      "\n"
     ]
    }
   ],
   "source": [
    "import warnings\n",
    "warnings.filterwarnings(\"ignore\")\n",
    "\n",
    "ann_y_predict = ann.predict(x_test)\n",
    "ann_y_predict_classes = [np.argmax(element) for element in ann_y_predict]\n",
    "\n",
    "print(\"Classification Report: \\n\", classification_report(y_test, ann_y_predict_classes))"
   ]
  },
  {
   "cell_type": "markdown",
   "id": "3a7c718c",
   "metadata": {},
   "source": [
    "### Visualizing ANN accuracy"
   ]
  },
  {
   "cell_type": "code",
   "execution_count": 121,
   "id": "aac29ea0",
   "metadata": {},
   "outputs": [
    {
     "data": {
      "text/plain": [
       "Text(69.0, 0.5, 'Truth')"
      ]
     },
     "execution_count": 121,
     "metadata": {},
     "output_type": "execute_result"
    },
    {
     "data": {
      "image/png": "[encoded data removed]",
      "text/plain": [
       "<Figure size 720x504 with 2 Axes>"
      ]
     },
     "metadata": {
      "needs_background": "light"
     },
     "output_type": "display_data"
    }
   ],
   "source": [
    "import seaborn as sn\n",
    "ann_confusion_matrix = tf.math.confusion_matrix(labels=y_test, predictions = ann_y_predict_classes)\n",
    "plt.figure(figsize = (10,7))\n",
    "sn.heatmap(ann_confusion_matrix, annot=True, fmt='d')\n",
    "plt.xlabel('Predicted')\n",
    "plt.ylabel('Truth')"
   ]
  },
  {
   "cell_type": "markdown",
   "id": "448d72ed",
   "metadata": {},
   "source": [
    "### Building CNN with 5 epochs"
   ]
  },
  {
   "cell_type": "code",
   "execution_count": 113,
   "id": "86acd033",
   "metadata": {},
   "outputs": [
    {
     "name": "stdout",
     "output_type": "stream",
     "text": [
      "Epoch 1/5\n",
      "1563/1563 [==============================] - 26s 17ms/step - loss: 1.7480 - accuracy: 0.4152\n",
      "Epoch 2/5\n",
      "1563/1563 [==============================] - 25s 16ms/step - loss: 1.2600 - accuracy: 0.5563\n",
      "Epoch 3/5\n",
      "1563/1563 [==============================] - 27s 17ms/step - loss: 1.1042 - accuracy: 0.6147\n",
      "Epoch 4/5\n",
      "1563/1563 [==============================] - 27s 17ms/step - loss: 1.0104 - accuracy: 0.6479\n",
      "Epoch 5/5\n",
      "1563/1563 [==============================] - 26s 17ms/step - loss: 0.9418 - accuracy: 0.6722\n"
     ]
    },
    {
     "data": {
      "text/plain": [
       "<keras.callbacks.History at 0x19269acf880>"
      ]
     },
     "execution_count": 113,
     "metadata": {},
     "output_type": "execute_result"
    }
   ],
   "source": [
    "cnn = keras.Sequential([\n",
    "        \n",
    "    keras.layers.Conv2D(filters=32, kernel_size=(3, 3), activation='relu', input_shape=(32, 32, 3)),\n",
    "    keras.layers.MaxPooling2D((2,2)),\n",
    "    \n",
    "    keras.layers.Conv2D(filters=64, kernel_size=(3, 3), activation='relu'),\n",
    "    keras.layers.MaxPooling2D((2, 2)),\n",
    "    \n",
    "    keras.layers.Flatten(),\n",
    "    keras.layers.Dense(64, activation='relu'),\n",
    "    keras.layers.Dense(10, activation='softmax')\n",
    "])\n",
    "    \n",
    "\n",
    "\n",
    "\n",
    "cnn.compile (\n",
    "    optimizer='adam',\n",
    "    loss='categorical_crossentropy',\n",
    "    metrics=['accuracy'])\n",
    "\n",
    "cnn.fit(x_train, y_train_categorical, epochs = 5)"
   ]
  },
  {
   "cell_type": "code",
   "execution_count": 122,
   "id": "47199cfa",
   "metadata": {},
   "outputs": [
    {
     "name": "stdout",
     "output_type": "stream",
     "text": [
      "313/313 [==============================] - 4s 12ms/step\n"
     ]
    },
    {
     "data": {
      "text/plain": [
       "array([[0.42774716, 0.58526444, 0.61332285, ..., 0.06072808, 0.60851353,\n",
       "        0.12308096],\n",
       "       [0.9161433 , 0.990886  , 0.19925159, ..., 0.06514478, 0.9622079 ,\n",
       "        0.99066794],\n",
       "       [0.98257107, 0.98074996, 0.2249138 , ..., 0.16711238, 0.96038866,\n",
       "        0.95725435],\n",
       "       ...,\n",
       "       [0.09470108, 0.17195351, 0.82872367, ..., 0.62978727, 0.37426665,\n",
       "        0.24432419],\n",
       "       [0.4881598 , 0.6525648 , 0.68763626, ..., 0.30805075, 0.13345705,\n",
       "        0.40680802],\n",
       "       [0.5950061 , 0.49063402, 0.47703853, ..., 0.8739465 , 0.19320355,\n",
       "        0.48887828]], dtype=float32)"
      ]
     },
     "execution_count": 122,
     "metadata": {},
     "output_type": "execute_result"
    }
   ],
   "source": [
    "cnn_y_predict = model.predict(x_test_scaled)\n",
    "cnn_y_predict"
   ]
  },
  {
   "cell_type": "code",
   "execution_count": 125,
   "id": "5b13f771",
   "metadata": {},
   "outputs": [
    {
     "name": "stdout",
     "output_type": "stream",
     "text": [
      "313/313 [==============================] - 3s 10ms/step\n"
     ]
    },
    {
     "data": {
      "text/plain": [
       "'dog'"
      ]
     },
     "execution_count": 125,
     "metadata": {},
     "output_type": "execute_result"
    }
   ],
   "source": [
    "classes[np.argmax(model.predict(x_test_scaled)[1000])]"
   ]
  },
  {
   "cell_type": "code",
   "execution_count": 126,
   "id": "f54efeed",
   "metadata": {},
   "outputs": [
    {
     "data": {
      "text/plain": [
       "<matplotlib.image.AxesImage at 0x192630efe80>"
      ]
     },
     "execution_count": 126,
     "metadata": {},
     "output_type": "execute_result"
    },
    {
     "data": {
      "image/png": "[encoded data removed]",
      "text/plain": [
       "<Figure size 432x288 with 1 Axes>"
      ]
     },
     "metadata": {
      "needs_background": "light"
     },
     "output_type": "display_data"
    }
   ],
   "source": [
    "plt.imshow(x_test_scaled[1000])"
   ]
  },
  {
   "cell_type": "code",
   "execution_count": 127,
   "id": "02350a89",
   "metadata": {},
   "outputs": [
    {
     "data": {
      "text/plain": [
       "'dog'"
      ]
     },
     "execution_count": 127,
     "metadata": {},
     "output_type": "execute_result"
    }
   ],
   "source": [
    "classes[y_test[1000][0]]"
   ]
  },
  {
   "cell_type": "code",
   "execution_count": 128,
   "id": "ed92e3e9",
   "metadata": {},
   "outputs": [
    {
     "name": "stdout",
     "output_type": "stream",
     "text": [
      "313/313 [==============================] - 2s 8ms/step\n",
      "Classification Report: \n",
      "               precision    recall  f1-score   support\n",
      "\n",
      "           0       0.45      0.66      0.53      1000\n",
      "           1       0.42      0.81      0.55      1000\n",
      "           2       0.46      0.19      0.27      1000\n",
      "           3       0.37      0.27      0.31      1000\n",
      "           4       0.49      0.29      0.37      1000\n",
      "           5       0.51      0.24      0.33      1000\n",
      "           6       0.40      0.73      0.52      1000\n",
      "           7       0.61      0.47      0.53      1000\n",
      "           8       0.68      0.53      0.59      1000\n",
      "           9       0.49      0.49      0.49      1000\n",
      "\n",
      "    accuracy                           0.47     10000\n",
      "   macro avg       0.49      0.47      0.45     10000\n",
      "weighted avg       0.49      0.47      0.45     10000\n",
      "\n"
     ]
    }
   ],
   "source": [
    "import warnings\n",
    "warnings.filterwarnings(\"ignore\")\n",
    "\n",
    "cnn_y_predict = ann.predict(x_test)\n",
    "cnn_y_predict_classes = [np.argmax(element) for element in y_predict]\n",
    "\n",
    "print(\"Classification Report: \\n\", classification_report(y_test, cnn_y_predict_classes))"
   ]
  },
  {
   "cell_type": "markdown",
   "id": "ba135fea",
   "metadata": {},
   "source": [
    "### Visualizing CNN accuracy "
   ]
  },
  {
   "cell_type": "code",
   "execution_count": 129,
   "id": "a6d8a967",
   "metadata": {},
   "outputs": [
    {
     "data": {
      "text/plain": [
       "Text(69.0, 0.5, 'Truth')"
      ]
     },
     "execution_count": 129,
     "metadata": {},
     "output_type": "execute_result"
    },
    {
     "data": {
      "image/png": "[encoded data removed]",
      "text/plain": [
       "<Figure size 720x504 with 2 Axes>"
      ]
     },
     "metadata": {
      "needs_background": "light"
     },
     "output_type": "display_data"
    }
   ],
   "source": [
    "import seaborn as sn\n",
    "cnn_confusion_matrix = tf.math.confusion_matrix(labels=y_test, predictions = cnn_y_predict_classes)\n",
    "plt.figure(figsize = (10,7))\n",
    "sn.heatmap(cnn_confusion_matrix, annot=True, fmt='d')\n",
    "plt.xlabel('Predicted')\n",
    "plt.ylabel('Truth')"
   ]
  },
  {
   "cell_type": "markdown",
   "id": "5bc52dbe",
   "metadata": {},
   "source": [
    "## Conclusion: I had trained images using ANN and CNN with equal number of epochs and result i found was CNN performed better than ANN in image classification"
   ]
  },
  {
   "cell_type": "markdown",
   "id": "6e076e4b",
   "metadata": {},
   "source": [
    "                                                                                                      Pranjal Tripathi"
   ]
  },
  {
   "cell_type": "code",
   "execution_count": null,
   "id": "c349bf10",
   "metadata": {},
   "outputs": [],
   "source": []
  }
 ],
 "metadata": {
  "kernelspec": {
   "display_name": "Python 3 (ipykernel)",
   "language": "python",
   "name": "python3"
  },
  "language_info": {
   "codemirror_mode": {
    "name": "ipython",
    "version": 3
   },
   "file_extension": ".py",
   "mimetype": "text/x-python",
   "name": "python",
   "nbconvert_exporter": "python",
   "pygments_lexer": "ipython3",
   "version": "3.9.7"
  }
 },
 "nbformat": 4,
 "nbformat_minor": 5
}
